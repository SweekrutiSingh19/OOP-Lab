{
  "nbformat": 4,
  "nbformat_minor": 0,
  "metadata": {
    "colab": {
      "name": "Sweekruti_20BCS124_OOPTask4.ipynb",
      "provenance": [],
      "authorship_tag": "ABX9TyMgbs/MlxSpCkiYa4OpDOyC",
      "include_colab_link": true
    },
    "kernelspec": {
      "name": "python3",
      "display_name": "Python 3"
    },
    "language_info": {
      "name": "python"
    }
  },
  "cells": [
    {
      "cell_type": "markdown",
      "metadata": {
        "id": "view-in-github",
        "colab_type": "text"
      },
      "source": [
        "<a href=\"https://colab.research.google.com/github/SweekrutiSingh19/OOP-Lab/blob/main/Sweekruti_20BCS124_OOPTask4.ipynb\" target=\"_parent\"><img src=\"https://colab.research.google.com/assets/colab-badge.svg\" alt=\"Open In Colab\"/></a>"
      ]
    },
    {
      "cell_type": "markdown",
      "metadata": {
        "id": "JkvMlDYQJHw7"
      },
      "source": [
        "Problem 1"
      ]
    },
    {
      "cell_type": "code",
      "metadata": {
        "colab": {
          "base_uri": "https://localhost:8080/"
        },
        "id": "UNHRbYUMI-fH",
        "outputId": "5269f388-35a3-4a4e-d3b1-15fde12b86f5"
      },
      "source": [
        "class Node:\n",
        "    def __init__(self, data, nextNode = None):\n",
        "        self.value = data\n",
        "        self.next = nextNode\n",
        "\n",
        "    def __del__(self):\n",
        "        print('0 has been deleted from the stack.'.format(self.value))\n",
        "\n",
        "class Stack(Node):\n",
        "    def __init__(self, head_val):\n",
        "        self.head = Node('Head')            # Head pointer node            \n",
        "        self.size = 0\n",
        "        self.push(head_val)\n",
        "\n",
        "    def isEmpty(self):\n",
        "        if self.size == 0:\n",
        "            print('Stack is empty.')\n",
        "        else:\n",
        "            print('Stack is not empty.')\n",
        "\n",
        "    def push(self, data):\n",
        "        node = Node(data, self.head.next)\n",
        "        self.head.next = node\n",
        "        self.size += 1\n",
        "        print('0 has been added to the stack.'.format(data))\n",
        "\n",
        "    def pop(self):\n",
        "        if self.size == 0:\n",
        "            print('Stack is empty.')\n",
        "            return\n",
        "        delete = self.head.next\n",
        "        value = delete.value\n",
        "        del delete\n",
        "        self.head.next = self.head.next.next\n",
        "        self.size -=1\n",
        "        return value\n",
        "\n",
        "    def printStack(self):\n",
        "        if self.size == 0:\n",
        "            print('Stack is empty.')\n",
        "            return\n",
        "        top = self.head.next\n",
        "        out = ''\n",
        "        while top:\n",
        "          out += str(top.value) + '->'\n",
        "          top = top.next\n",
        "        print(out[:-4])\n",
        "\n",
        "    def __del__(self):\n",
        "        print('Stack has been deallocated.')\n",
        "\n",
        "if __name__ == '__main__':\n",
        "    stack = Stack(1)            # First top node is 1               \n",
        "    for i in range(5, 20):\n",
        "        stack.push(i)\n",
        "    stack.printStack()\n",
        "    for i in range(10, 20):\n",
        "        stack.pop()\n",
        "    stack.printStack()\n",
        "    stack.pop()\n",
        "    stack.printStack()"
      ],
      "execution_count": 13,
      "outputs": [
        {
          "output_type": "stream",
          "name": "stdout",
          "text": [
            "0 has been added to the stack.\n",
            "Stack has been deallocated.\n",
            "0 has been deleted from the stack.\n",
            "0 has been deleted from the stack.\n",
            "0 has been deleted from the stack.\n",
            "0 has been deleted from the stack.\n",
            "0 has been deleted from the stack.\n",
            "0 has been added to the stack.\n",
            "0 has been added to the stack.\n",
            "0 has been added to the stack.\n",
            "0 has been added to the stack.\n",
            "0 has been added to the stack.\n",
            "0 has been added to the stack.\n",
            "0 has been added to the stack.\n",
            "0 has been added to the stack.\n",
            "0 has been added to the stack.\n",
            "0 has been added to the stack.\n",
            "0 has been added to the stack.\n",
            "0 has been added to the stack.\n",
            "0 has been added to the stack.\n",
            "0 has been added to the stack.\n",
            "0 has been added to the stack.\n",
            "19->18->17->16->15->14->13->12->11->10->9->8->7->6->5-\n",
            "0 has been deleted from the stack.\n",
            "0 has been deleted from the stack.\n",
            "0 has been deleted from the stack.\n",
            "0 has been deleted from the stack.\n",
            "0 has been deleted from the stack.\n",
            "0 has been deleted from the stack.\n",
            "0 has been deleted from the stack.\n",
            "0 has been deleted from the stack.\n",
            "0 has been deleted from the stack.\n",
            "0 has been deleted from the stack.\n",
            "9->8->7->6->5-\n",
            "0 has been deleted from the stack.\n",
            "8->7->6->5-\n"
          ]
        }
      ]
    },
    {
      "cell_type": "markdown",
      "metadata": {
        "id": "hXibzcaMLQYz"
      },
      "source": [
        "Problem 2"
      ]
    },
    {
      "cell_type": "code",
      "metadata": {
        "colab": {
          "base_uri": "https://localhost:8080/"
        },
        "id": "MJWL9STxLSGl",
        "outputId": "f6eca92b-b9d4-4d63-d641-9a95cc5e4d1f"
      },
      "source": [
        "class RectangleA:\n",
        "    def __init__(self):                                 # Default constructor\n",
        "        self.length = int(input('Enter length of rectangle: '))\n",
        "        self.breadth = int(input('Enter breadth of rectangle: '))\n",
        "    \n",
        "    def area(self):\n",
        "        return self.length*self.breadth\n",
        "\n",
        "class RectangleB(RectangleA):\n",
        "    def __init__(self, length, breadth):                 # Parameterized constructor\n",
        "        self.length = length\n",
        "        self.breadth = breadth\n",
        "\n",
        "rect1 = RectangleA()\n",
        "rect2 = RectangleB(5,20)\n",
        "print('Area =',rect1.area())\n",
        "print('Area =',rect2.area())"
      ],
      "execution_count": 11,
      "outputs": [
        {
          "output_type": "stream",
          "name": "stdout",
          "text": [
            "Enter length of rectangle: 10\n",
            "Enter breadth of rectangle: 20\n",
            "Area = 200\n",
            "Area = 100\n"
          ]
        }
      ]
    },
    {
      "cell_type": "markdown",
      "metadata": {
        "id": "gljK_MvBM3JX"
      },
      "source": [
        "Problem 3"
      ]
    },
    {
      "cell_type": "code",
      "metadata": {
        "colab": {
          "base_uri": "https://localhost:8080/"
        },
        "id": "f0qDYtI-M4xz",
        "outputId": "f231ca1b-e14d-479a-94bf-a4d6d5376ac9"
      },
      "source": [
        "import time\n",
        "class Node:\n",
        "    def __init__(self, data, nextNode = None):\n",
        "        self.value = data\n",
        "        self.next = nextNode\n",
        "\n",
        "    def __del__(self):\n",
        "        print('0 has been deleted from the queue.'.format(self.value))\n",
        "\n",
        "class Queue(Node):\n",
        "    def __init__(self, head_val):\n",
        "        self.rear = Node('Rear')            # Rear pointer node\n",
        "        self.head = Node('Head')\n",
        "        self.size = 0\n",
        "        self.push(head_val)\n",
        "        self.head.next = self.rear.next            # Head pointer node            \n",
        "\n",
        "    def isEmpty(self):\n",
        "        if self.size == 0:\n",
        "            print('Queue is empty.')\n",
        "        else:\n",
        "            print('Queue is not empty.')\n",
        "\n",
        "    def push(self, data):\n",
        "        node = Node(data)\n",
        "        if self.size == 0:\n",
        "            self.head.next = self.rear.next = node\n",
        "        else: \n",
        "            self.rear.next.next = self.rear.next = node\n",
        "        self.size += 1\n",
        "        print('0 has been added to the queue.'.format(data))\n",
        "\n",
        "    def pop(self):\n",
        "        if self.size == 0:\n",
        "            print('Queue is empty.')\n",
        "            return\n",
        "        delete = self.head.next\n",
        "        value = delete.value\n",
        "        del delete\n",
        "        self.head.next = self.head.next.next\n",
        "        self.size -=1\n",
        "        return value\n",
        "\n",
        "    def printStack(self):\n",
        "        if self.size == 0:\n",
        "            print('Queue is empty.')\n",
        "            return\n",
        "        top = self.head.next\n",
        "        out = \"\"\n",
        "        while top:\n",
        "          out += str(top.value) + '->'\n",
        "          top = top.next\n",
        "        print(out[:-4])\n",
        "\n",
        "    def __del__(self):\n",
        "        print('Queue has been deleted.')\n",
        "\n",
        "queue = Queue(1)            # First top node is 1                \n",
        "for i in range(5, 20):\n",
        "    queue.push(i)\n",
        "queue.printStack()\n",
        "for i in range(10, 20):\n",
        "    queue.pop()\n",
        "queue.printStack()\n",
        "queue.pop()\n",
        "queue.printStack()"
      ],
      "execution_count": 12,
      "outputs": [
        {
          "output_type": "stream",
          "name": "stdout",
          "text": [
            "0 has been added to the queue.\n",
            "0 has been added to the queue.\n",
            "0 has been added to the queue.\n",
            "0 has been added to the queue.\n",
            "0 has been added to the queue.\n",
            "0 has been added to the queue.\n",
            "0 has been added to the queue.\n",
            "0 has been added to the queue.\n",
            "0 has been added to the queue.\n",
            "0 has been added to the queue.\n",
            "0 has been added to the queue.\n",
            "0 has been added to the queue.\n",
            "0 has been added to the queue.\n",
            "0 has been added to the queue.\n",
            "0 has been added to the queue.\n",
            "0 has been added to the queue.\n",
            "1->5->6->7->8->9->10->11->12->13->14->15->16->17->18->\n",
            "0 has been deleted from the queue.\n",
            "0 has been deleted from the queue.\n",
            "0 has been deleted from the queue.\n",
            "0 has been deleted from the queue.\n",
            "0 has been deleted from the queue.\n",
            "0 has been deleted from the queue.\n",
            "0 has been deleted from the queue.\n",
            "0 has been deleted from the queue.\n",
            "0 has been deleted from the queue.\n",
            "0 has been deleted from the queue.\n",
            "14->15->16->17->18->\n",
            "0 has been deleted from the queue.\n",
            "15->16->17->18->\n"
          ]
        }
      ]
    }
  ]
}