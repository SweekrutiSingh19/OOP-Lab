{
  "nbformat": 4,
  "nbformat_minor": 0,
  "metadata": {
    "colab": {
      "name": "Sweekruti_20BCS124_OOPTask5.ipynb",
      "provenance": [],
      "authorship_tag": "ABX9TyOW9hHYndlkGwHJVtrlVuFM",
      "include_colab_link": true
    },
    "kernelspec": {
      "name": "python3",
      "display_name": "Python 3"
    },
    "language_info": {
      "name": "python"
    }
  },
  "cells": [
    {
      "cell_type": "markdown",
      "metadata": {
        "id": "view-in-github",
        "colab_type": "text"
      },
      "source": [
        "<a href=\"https://colab.research.google.com/github/SweekrutiSingh19/OOP-Lab/blob/main/Sweekruti_20BCS124_OOPTask5.ipynb\" target=\"_parent\"><img src=\"https://colab.research.google.com/assets/colab-badge.svg\" alt=\"Open In Colab\"/></a>"
      ]
    },
    {
      "cell_type": "markdown",
      "metadata": {
        "id": "DXXcLe3Flx05"
      },
      "source": [
        "Problem 1"
      ]
    },
    {
      "cell_type": "code",
      "metadata": {
        "colab": {
          "base_uri": "https://localhost:8080/"
        },
        "id": "DUAwMOgZ81yZ",
        "outputId": "145eb597-5541-4e4e-fd7f-b0c7d045c55a"
      },
      "source": [
        "from abc import ABC, abstractmethod\n",
        "import math\n",
        "class Shape(ABC):\n",
        "    def __init__(self, shape):\n",
        "        self.shape = shape\n",
        "\n",
        "    @abstractmethod\n",
        "    def area(self):\n",
        "        pass\n",
        "\n",
        "class Rectangle(Shape):\n",
        "    def __init__(self, length, breadth):\n",
        "        Shape.__init__(self, 'Rectangle')\n",
        "        self.length = length\n",
        "        self.breadth = breadth\n",
        "\n",
        "    def area(self):\n",
        "        return self.length*self.breadth\n",
        "\n",
        "class Circle(Shape):\n",
        "    def __init__(self, radius):\n",
        "        Shape.__init__(self, 'Circle')\n",
        "        self.radius = radius\n",
        "\n",
        "    def area(self):\n",
        "        return round((math.pi)*(self.radius**2),3)\n",
        "\n",
        "class Square(Shape):\n",
        "    def __init__(self, side):\n",
        "        Shape.__init__(self, 'Square')\n",
        "        self.side = side\n",
        "\n",
        "    def area(self):\n",
        "        return self.side*self.side\n",
        "\n",
        "sq = Square(20)\n",
        "print('Area of square:', sq.area())\n",
        "rect = Rectangle(5,20)\n",
        "print('Area of rectangle:', rect.area())\n",
        "c = Circle(5)\n",
        "print('Area of circle:', c.area())"
      ],
      "execution_count": 12,
      "outputs": [
        {
          "output_type": "stream",
          "name": "stdout",
          "text": [
            "Area of square: 400\n",
            "Area of rectangle: 100\n",
            "Area of circle: 78.54\n"
          ]
        }
      ]
    },
    {
      "cell_type": "markdown",
      "metadata": {
        "id": "SnqHK2jq9PO1"
      },
      "source": [
        "Problem 2"
      ]
    },
    {
      "cell_type": "code",
      "metadata": {
        "colab": {
          "base_uri": "https://localhost:8080/"
        },
        "id": "6dUCKSM89Qyw",
        "outputId": "7531d307-01d8-4943-e68b-39f8501730e4"
      },
      "source": [
        "from abc import ABC, abstractmethod\n",
        "class Travel(ABC):\n",
        "    def __init__(self, num, distance, mode):\n",
        "        self.__num = num\n",
        "        self.distance = distance\n",
        "        self.mode = mode\n",
        "\n",
        "    @abstractmethod\n",
        "    def cost(self):\n",
        "        pass\n",
        "\n",
        "class Bus(Travel):\n",
        "    def __init__(self, num, distance):\n",
        "        Travel.__init__(self, num, distance, 'Bus')\n",
        "\n",
        "    def cost(self):\n",
        "        return 100*self._Travel__num                    \n",
        "\n",
        "class Train(Travel):\n",
        "    def __init__(self, num, distance):\n",
        "        Travel.__init__(self, num, distance, 'Train')\n",
        "\n",
        "    def cost(self):\n",
        "        return 60*self._Travel__num\n",
        "\n",
        "DharwadToBelagavi = 76.8                # Distance between Dharwad to Belagavi in kms\n",
        "trainTrip = Train(5, DharwadToBelagavi)\n",
        "print('Cost for travelling by train:', trainTrip.cost())\n",
        "busTrip = Bus(5, DharwadToBelagavi)\n",
        "print('Cost for travelling by bus:', busTrip.cost())"
      ],
      "execution_count": 20,
      "outputs": [
        {
          "output_type": "stream",
          "name": "stdout",
          "text": [
            "Cost for travelling by train: 300\n",
            "Cost for travelling by bus: 500\n"
          ]
        }
      ]
    },
    {
      "cell_type": "markdown",
      "metadata": {
        "id": "3YJ_LVfnDZtv"
      },
      "source": [
        "Problem 3"
      ]
    },
    {
      "cell_type": "code",
      "metadata": {
        "colab": {
          "base_uri": "https://localhost:8080/"
        },
        "id": "h8J089Q7DbVH",
        "outputId": "006f609f-4d93-46b1-8fc8-0df36fd2410b"
      },
      "source": [
        "class Car:\n",
        "    def __init__(self, number, color, price):\n",
        "        self.number = number\n",
        "        self.color = color\n",
        "        self.price = price\n",
        "    \n",
        "    def setNum(self, num):\n",
        "        self.number = num\n",
        "\n",
        "def swapNumber(obj1, obj2):\n",
        "    temp = obj1.number \n",
        "    obj1.setNum(obj2.number)\n",
        "    obj2.setNum(temp)\n",
        "\n",
        "c1 = Car(107, 'Black', 7000000)\n",
        "c2 = Car(168, 'White', 4100000)\n",
        "print(\"Before c1's number: {0} and c2's number: {1}\".format(c1.number, c2.number))\n",
        "swapNumber(c1, c2)\n",
        "print(\"After c1's number: {0} and c2's number: {1}\".format(c1.number, c2.number))"
      ],
      "execution_count": 26,
      "outputs": [
        {
          "output_type": "stream",
          "name": "stdout",
          "text": [
            "Before c1's number: 107 and c2's number: 168\n",
            "After c1's number: 168 and c2's number: 107\n"
          ]
        }
      ]
    }
  ]
}