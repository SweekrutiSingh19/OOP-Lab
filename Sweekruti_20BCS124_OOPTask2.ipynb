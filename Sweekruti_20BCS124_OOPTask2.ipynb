{
  "nbformat": 4,
  "nbformat_minor": 0,
  "metadata": {
    "colab": {
      "name": "Sweekruti_20BCS124_OOPTask2.ipynb",
      "provenance": [],
      "authorship_tag": "ABX9TyNecfEzEIAkEEwftye6WEeU",
      "include_colab_link": true
    },
    "kernelspec": {
      "name": "python3",
      "display_name": "Python 3"
    },
    "language_info": {
      "name": "python"
    }
  },
  "cells": [
    {
      "cell_type": "markdown",
      "metadata": {
        "id": "view-in-github",
        "colab_type": "text"
      },
      "source": [
        "<a href=\"https://colab.research.google.com/github/SweekrutiSingh19/OOP-Lab/blob/main/Sweekruti_20BCS124_OOPTask2.ipynb\" target=\"_parent\"><img src=\"https://colab.research.google.com/assets/colab-badge.svg\" alt=\"Open In Colab\"/></a>"
      ]
    },
    {
      "cell_type": "markdown",
      "metadata": {
        "id": "nqHfT9BOUgiD"
      },
      "source": [
        "Problem 1"
      ]
    },
    {
      "cell_type": "code",
      "metadata": {
        "colab": {
          "base_uri": "https://localhost:8080/"
        },
        "id": "Rq275HDngaER",
        "outputId": "9fd191cc-9247-4b86-aa81-52014ee50710"
      },
      "source": [
        "import numpy as np\n",
        "class Circle:\n",
        "  def __init__(self,radius):\n",
        "    self.radius=radius\n",
        "  def Perimeter(self):\n",
        "    return 2*np.pi*self.radius\n",
        "  def Area(self):\n",
        "    return np.pi*(self.radius)**2\n",
        "r=int(input('Enter the radius of the circle:'))\n",
        "circle=Circle(r)\n",
        "print('Perimeter of the circle=',circle.Perimeter())\n",
        "print('Area of the circle:',circle.Area())"
      ],
      "execution_count": null,
      "outputs": [
        {
          "output_type": "stream",
          "name": "stdout",
          "text": [
            "Enter the radius of the circle:9\n",
            "Perimeter of the circle= 56.548667764616276\n",
            "Area of the circle: 254.46900494077323\n"
          ]
        }
      ]
    },
    {
      "cell_type": "markdown",
      "metadata": {
        "id": "8jRJOTznlI-C"
      },
      "source": [
        "Problem 2"
      ]
    },
    {
      "cell_type": "code",
      "metadata": {
        "colab": {
          "base_uri": "https://localhost:8080/"
        },
        "id": "amN3ad5glKfO",
        "outputId": "66105244-cabb-48ee-81a9-6fab51d71898"
      },
      "source": [
        "class data:\n",
        "  def __init__(self,Name, EmpID, Branch, Salary): \n",
        "    self.Name=Name\n",
        "    self.EmpID=EmpID\n",
        "    self.Branch=Branch\n",
        "    self.Salary=Salary\n",
        "  def display(self):\n",
        "    print(\"Name:\", self.Name)\n",
        "    print(\"Emp ID:\", self.EmpID)\n",
        "    print(\"Branch:\", self.Branch)\n",
        "    print(\"Salary:\", self.Salary)\n",
        "teacher_list = []\n",
        "for i in range(5):\n",
        "  Name = str(input(\"\\nEnter the name: \"))\n",
        "  EmpID = str(input(\"Enter the Emp ID: \")) \n",
        "  Branch = str(input(\"Enter the branch: \"))\n",
        "  Salary = int(input(\"Enter the salary: \"))\n",
        "  teacher_list.append(data(Name, EmpID, Branch, Salary))\n",
        "\n",
        "for i in range(5):\n",
        "  teacher_list[i].display()"
      ],
      "execution_count": null,
      "outputs": [
        {
          "output_type": "stream",
          "name": "stdout",
          "text": [
            "\n",
            "Enter the name: Sweekruti\n",
            "Enter the Emp ID: 20BCS124\n",
            "Enter the branch: CSE\n",
            "Enter the salary: 600000\n",
            "\n",
            "Enter the name: Tanisha\n",
            "Enter the Emp ID: 20PRIM19\n",
            "Enter the branch: PRIM\n",
            "Enter the salary: 750000\n",
            "\n",
            "Enter the name: Anjali\n",
            "Enter the Emp ID: 20BAFXXX\n",
            "Enter the branch: AF\n",
            "Enter the salary: 200000\n",
            "\n",
            "Enter the name: Anushka\n",
            "Enter the Emp ID: 20COMXXX\n",
            "Enter the branch: COM\n",
            "Enter the salary: 15000\n",
            "\n",
            "Enter the name: Rhea\n",
            "Enter the Emp ID: 20BITXXX\n",
            "Enter the branch: IT\n",
            "Enter the salary: 300000\n",
            "Name: Sweekruti\n",
            "Emp ID: 20BCS124\n",
            "Branch: CSE\n",
            "Salary: 600000\n",
            "Name: Tanisha\n",
            "Emp ID: 20PRIM19\n",
            "Branch: PRIM\n",
            "Salary: 750000\n",
            "Name: Anjali\n",
            "Emp ID: 20BAFXXX\n",
            "Branch: AF\n",
            "Salary: 200000\n",
            "Name: Anushka\n",
            "Emp ID: 20COMXXX\n",
            "Branch: COM\n",
            "Salary: 15000\n",
            "Name: Rhea\n",
            "Emp ID: 20BITXXX\n",
            "Branch: IT\n",
            "Salary: 300000\n"
          ]
        }
      ]
    },
    {
      "cell_type": "markdown",
      "metadata": {
        "id": "ywh1bPearQ08"
      },
      "source": [
        "Problem 3"
      ]
    },
    {
      "cell_type": "code",
      "metadata": {
        "colab": {
          "base_uri": "https://localhost:8080/"
        },
        "id": "wntXiWLDrSHK",
        "outputId": "4ba33724-8d99-48fc-d2cd-ec1d54d7aab2"
      },
      "source": [
        "class account:\n",
        "  def __init__(self, Name, Acc_No, Deposit):\n",
        "    self.accNumber = Acc_No\n",
        "    self.Name = Name\n",
        "    self.Savings = Deposit\n",
        "\n",
        "  def Deposit(self, amount):\n",
        "    self.Savings += amount\n",
        "    print(f\"Rs {amount} has been deposited\")\n",
        "    print(f\"current savings: {self.Savings}\\n\")\n",
        "\n",
        "  def Withdraw(self, amount):\n",
        "    if (amount > self.Savings):\n",
        "      print(\"Insufficient savings\")\n",
        "    else:\n",
        "      self.Savings -= amount\n",
        "      print(f\"Rs {amount} has been withdrawn\")\n",
        "      print(f\"current savings: {self.Savings}\")\n",
        "\n",
        "  def check_balance(self):\n",
        "    print(f\"current savings: {self.Savings}\")\n",
        "\n",
        "  def displayAccount(self):\n",
        "    print(\"Name:\", self.Name)\n",
        "    print(\"Account Number\", self.accNumber)\n",
        "    print(f\"current savings: {self.Savings}\")\n",
        "\n",
        "name = str(input(\"Enter your name: \"))\n",
        "acc_no = int(input(\"Enter the account number: \"))\n",
        "deposit = int(input(\"Enter the initial balance: \"))\n",
        "User_acc = account(name, acc_no, deposit)\n",
        "\n",
        "while True:\n",
        "  choice = int(input(\"Select an option:\\n1. Deposit\\n2. Withdraw\\n3. Check Balance\\n4. Display Account\\n5. Exit\\n\"))\n",
        "  if choice == 1:\n",
        "    amount = int(input(\"Enter the amount to deposit: \"))\n",
        "    User_acc.Deposit(amount)\n",
        "  elif choice == 2:\n",
        "    amount = int(input(\"Enter the amount to withdraw: \"))\n",
        "    User_acc.Withdraw(amount)\n",
        "  elif choice == 3:\n",
        "    User_acc.check_balance()\n",
        "  elif choice == 4:\n",
        "    User_acc.displayAccount()\n",
        "  elif choice == 5:\n",
        "    break\n",
        "  else:\n",
        "    print(\"enter a valid choice\")"
      ],
      "execution_count": null,
      "outputs": [
        {
          "name": "stdout",
          "output_type": "stream",
          "text": [
            "Enter your name: Sweekruti\n",
            "Enter the account number: 124\n",
            "Enter the initial balance: 600000\n",
            "Select an option:\n",
            "1. Deposit\n",
            "2. Withdraw\n",
            "3. Check Balance\n",
            "4. Display Account\n",
            "5. Exit\n",
            "1\n",
            "Enter the amount to deposit: 200000\n",
            "Rs 200000 has been deposited\n",
            "current savings: 800000\n",
            "\n",
            "Select an option:\n",
            "1. Deposit\n",
            "2. Withdraw\n",
            "3. Check Balance\n",
            "4. Display Account\n",
            "5. Exit\n",
            "2\n",
            "Enter the amount to withdraw: 25000\n",
            "Rs 25000 has been withdrawn\n",
            "current savings: 775000\n",
            "Select an option:\n",
            "1. Deposit\n",
            "2. Withdraw\n",
            "3. Check Balance\n",
            "4. Display Account\n",
            "5. Exit\n",
            "3\n",
            "current savings: 775000\n",
            "Select an option:\n",
            "1. Deposit\n",
            "2. Withdraw\n",
            "3. Check Balance\n",
            "4. Display Account\n",
            "5. Exit\n",
            "4\n",
            "Name: Sweekruti\n",
            "Account Number 124\n",
            "current savings: 775000\n",
            "Select an option:\n",
            "1. Deposit\n",
            "2. Withdraw\n",
            "3. Check Balance\n",
            "4. Display Account\n",
            "5. Exit\n",
            "5\n"
          ]
        }
      ]
    },
    {
      "cell_type": "markdown",
      "metadata": {
        "id": "_HhA7SkxsadW"
      },
      "source": [
        "Problem 4"
      ]
    },
    {
      "cell_type": "code",
      "metadata": {
        "colab": {
          "base_uri": "https://localhost:8080/"
        },
        "id": "oA-xCrlmsb7j",
        "outputId": "35670972-d0f9-4381-b280-73072ca53843"
      },
      "source": [
        "class data:\n",
        "\n",
        "    def setData(self):\n",
        "        self.name = input(\"Enter the name of the student : \")\n",
        "        self.ID = int(input(\"Enter the USN of the student : \"))\n",
        "        self.marks = []\n",
        "        for i in range(1, 4):\n",
        "            marks = input(f\"Enter the marks for subject {i} : \")\n",
        "            self.marks.append(marks)\n",
        "\n",
        "    def getData(self):\n",
        "        print(\"Name : \",self.name)\n",
        "        print(\"USN : \",self.ID)\n",
        "        print(\"Marks Subject 1 : \",self.marks[0])\n",
        "        print(\"Marks Subject 2 :\", self.marks[1])\n",
        "        print(\"Marks Subject 3 :\", self.marks[2])\n",
        "        return self.name, self.ID, self.marks\n",
        "\n",
        "s1 = data()\n",
        "s1.setData()\n",
        "list1 = s1.getData()\n",
        "print(list1)"
      ],
      "execution_count": null,
      "outputs": [
        {
          "output_type": "stream",
          "name": "stdout",
          "text": [
            "Enter the name of the student : Sweekruti\n",
            "Enter the USN of the student : 124\n",
            "Enter the marks for subject 1 : 95\n",
            "Enter the marks for subject 2 : 83\n",
            "Enter the marks for subject 3 : 96\n",
            "Name :  Sweekruti\n",
            "USN :  124\n",
            "Marks Subject 1 :  95\n",
            "Marks Subject 2 : 83\n",
            "Marks Subject 3 : 96\n",
            "('Sweekruti', 124, ['95', '83', '96'])\n"
          ]
        }
      ]
    },
    {
      "cell_type": "markdown",
      "metadata": {
        "id": "JEU_mS3ftvBU"
      },
      "source": [
        "Problem 5"
      ]
    },
    {
      "cell_type": "code",
      "metadata": {
        "colab": {
          "base_uri": "https://localhost:8080/"
        },
        "id": "4xMXRt_stwXa",
        "outputId": "bcb6777b-9b15-44e5-8612-dde9ee2ec835"
      },
      "source": [
        "class patient:\n",
        "\n",
        "  def __init__(self):\n",
        "    self.name = input(\"enter the patient's name: \")\n",
        "    self.date_admit = input(\"enter the date of admit as dd/mm/yyyy: \")\n",
        "    n = int(input(\"enter the number of symptoms: \"))\n",
        "    self.symptoms = []\n",
        "    for i in range(0, n):\n",
        "      sym = input(\"enter the symptom: \")\n",
        "      self.symptoms.append(sym)\n",
        "    self.oxygen_level = int(input(\"enter the oxygen level in percentage: \"))\n",
        "    self.date_discharge = input(\"enter the date of discharge as dd/mm/yyyy: \")\n",
        "    \n",
        "  def patientinfo(self):\n",
        "    print(\"\\n\\n\")\n",
        "    print(\"patient name is: \",self.name)\n",
        "    print(\"patient's date of admit is: \",self.date_admit)\n",
        "    print(\"patient's symptoms are: \",self.symptoms)\n",
        "    print(\"patient's oxygen level is: \",self.oxygen_level)\n",
        "    print(\"patient's date of discharge is: \",self.date_discharge)\n",
        "\n",
        "  def severity(self):\n",
        "    if self.oxygen_level < 90:\n",
        "      print(\"the person is in severe condition\")\n",
        "    else:\n",
        "      print(\"the person is not severe\")    \n",
        "\n",
        "c1=patient()\n",
        "c1.severity()\n",
        "\n",
        "# c2=patient()\n",
        "# c2.patient_info()\n",
        "# c2.severity()"
      ],
      "execution_count": null,
      "outputs": [
        {
          "output_type": "stream",
          "name": "stdout",
          "text": [
            "enter the patient's name: Ayush\n",
            "enter the date of admit as dd/mm/yyyy: 05/05/2002\n",
            "enter the number of symptoms: 3\n",
            "enter the symptom: Fever\n",
            "enter the symptom: Dry cough\n",
            "enter the symptom: Tiredness\n",
            "enter the oxygen level in percentage: 98\n",
            "enter the date of discharge as dd/mm/yyyy: 09/09/2021\n",
            "the person is not severe\n"
          ]
        }
      ]
    },
    {
      "cell_type": "markdown",
      "metadata": {
        "id": "h9vIJ73OwU33"
      },
      "source": [
        "Problem 6"
      ]
    },
    {
      "cell_type": "code",
      "metadata": {
        "colab": {
          "base_uri": "https://localhost:8080/"
        },
        "id": "S7AX4m-pwWYR",
        "outputId": "62e4d917-1ca0-4fc8-f2d5-a0295b2f4ebd"
      },
      "source": [
        "class Time():\n",
        "    def __init__(self):\n",
        "        self.hours=0\n",
        "        self.minutes=0\n",
        "        self.seconds=0\n",
        "    def increase(self):\n",
        "        self.seconds=self.seconds+60\n",
        "        if(self.seconds%60==0):\n",
        "            self.minutes=self.minutes+1\n",
        "        if(self.minutes%60==0):\n",
        "            self.hours=self.hours+1\n",
        "    def display(self):\n",
        "        print(self.hours,\":\",self.minutes,\":\",self.seconds)\n",
        "timedata=Time()\n",
        "n=int(input(\"Enter wait time:\"))\n",
        "i=0\n",
        "while(i<n):\n",
        "    timedata.increase()\n",
        "    i+=1\n",
        "timedata.display()"
      ],
      "execution_count": null,
      "outputs": [
        {
          "output_type": "stream",
          "name": "stdout",
          "text": [
            "Enter wait time:20\n",
            "0 : 20 : 1200\n"
          ]
        }
      ]
    },
    {
      "cell_type": "markdown",
      "metadata": {
        "id": "tkXXnuiBwxMB"
      },
      "source": [
        "Problem 7"
      ]
    },
    {
      "cell_type": "code",
      "metadata": {
        "colab": {
          "base_uri": "https://localhost:8080/"
        },
        "id": "NJvohiqvwye-",
        "outputId": "73936c6f-d353-4331-bbea-4cc90148b618"
      },
      "source": [
        "class studentdet():\n",
        "    def __init__(self,name,age,rollno):\n",
        "        self.name=name\n",
        "        self.age=age\n",
        "        self.rollno=rollno\n",
        "    def compare(self):\n",
        "        if(student1.age==student2.age):\n",
        "            print(\"They are of the same age\")\n",
        "        else:\n",
        "            print(\"They are not the same age\")\n",
        "\n",
        "\n",
        "student1=studentdet(\"Rahul\",21,33)\n",
        "student2=studentdet(\"Rohit\",22,74)\n",
        "student1.compare()"
      ],
      "execution_count": null,
      "outputs": [
        {
          "output_type": "stream",
          "name": "stdout",
          "text": [
            "They are not the same age\n"
          ]
        }
      ]
    },
    {
      "cell_type": "markdown",
      "metadata": {
        "id": "tiVn_ySZw9FK"
      },
      "source": [
        "Problem 8"
      ]
    },
    {
      "cell_type": "code",
      "metadata": {
        "colab": {
          "base_uri": "https://localhost:8080/"
        },
        "id": "9H_R5Tgew-kh",
        "outputId": "e3575093-72cd-4b4a-921d-cdf3080e42c3"
      },
      "source": [
        "class studentdet():\n",
        "    sem=3\n",
        "    institute=\"IIIT Dharwad\"\n",
        "    def __init__(self,name,usn):\n",
        "        self.name=name\n",
        "        self.usn=usn\n",
        "\n",
        "    @classmethod\n",
        "    def displaydet(cls):\n",
        "        return cls.sem,cls.institute\n",
        "\n",
        "    @staticmethod\n",
        "    def show():\n",
        "        return \"Printed using static method\"\n",
        "\n",
        "    def display(self):\n",
        "        return self.name,self.usn\n",
        "\n",
        "a=input(\"Enter name:\")\n",
        "b=int(input(\"Enter USN:\"))\n",
        "student=studentdet(a,b)\n",
        "print(student.displaydet())\n",
        "print(student.display())\n",
        "print(student.show())"
      ],
      "execution_count": null,
      "outputs": [
        {
          "output_type": "stream",
          "name": "stdout",
          "text": [
            "Enter name:Sweekruti\n",
            "Enter USN:124\n",
            "(3, 'IIIT Dharwad')\n",
            "('Sweekruti', 124)\n",
            "Printed using static method\n"
          ]
        }
      ]
    },
    {
      "cell_type": "markdown",
      "metadata": {
        "id": "pzlFZtGMxXcT"
      },
      "source": [
        "Problem 9"
      ]
    },
    {
      "cell_type": "code",
      "metadata": {
        "colab": {
          "base_uri": "https://localhost:8080/"
        },
        "id": "mev1TGF9xZAY",
        "outputId": "429efc27-3808-4a23-989f-3fa21c233078"
      },
      "source": [
        "class student():\n",
        "    def __init__(self,name,rollno,sem):\n",
        "        self.name=name\n",
        "        self.rollno=rollno\n",
        "        self.sem=sem\n",
        "    def display(self):\n",
        "        return self.name,self.rollno,self.sem\n",
        "    class laptop():\n",
        "        def __init__(self,cpu,ram,harddisk,displaydet,os,manufacturer):\n",
        "            self.cpu=cpu\n",
        "            self.ram=ram\n",
        "            self.harddisk=harddisk\n",
        "            self.displaydet=displaydet\n",
        "            self.os=os\n",
        "            self.manufacturer=manufacturer\n",
        "        def show(self):\n",
        "            return self.cpu,self.ram,self.harddisk,self.displaydet,self.os,self.manufacturer\n",
        "a=input(\"Enter name:\")\n",
        "b=int(input(\"Enter roll number:\"))\n",
        "c=int(input(\"Enter sem:\"))\n",
        "studentdet=student(a,b,c)\n",
        "e=input(\"Enter processor name:\")\n",
        "f=int(input(\"Enter RAM space:\"))\n",
        "g=int(input(\"Enter storage space:\"))\n",
        "h=int(input(\"Enter display size:\"))\n",
        "i=input(\"Enter OS details:\")\n",
        "j=input(\"Enter manufacturer:\")\n",
        "laptopdet=studentdet.laptop(e,f,g,h,i,j)\n",
        "print(studentdet.display())\n",
        "print(laptopdet.show())"
      ],
      "execution_count": null,
      "outputs": [
        {
          "output_type": "stream",
          "name": "stdout",
          "text": [
            "Enter name:Sweekruti\n",
            "Enter roll number:124\n",
            "Enter sem:3\n",
            "Enter processor name:intel i5\n",
            "Enter RAM space:8\n",
            "Enter storage space:256\n",
            "Enter display size:15\n",
            "Enter OS details:Windows\n",
            "Enter manufacturer:Lenovo\n",
            "('Sweekruti', 124, 3)\n",
            "('intel i5', 8, 256, 15, 'Windows', 'Lenovo')\n"
          ]
        }
      ]
    }
  ]
}