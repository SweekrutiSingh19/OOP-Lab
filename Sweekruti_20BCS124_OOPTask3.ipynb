{
  "nbformat": 4,
  "nbformat_minor": 0,
  "metadata": {
    "colab": {
      "name": "Sweekruti_20BCS124_OOPTask3.ipynb",
      "provenance": [],
      "authorship_tag": "ABX9TyMDs3VpsFZH3QiuGFDSbD/O",
      "include_colab_link": true
    },
    "kernelspec": {
      "name": "python3",
      "display_name": "Python 3"
    },
    "language_info": {
      "name": "python"
    }
  },
  "cells": [
    {
      "cell_type": "markdown",
      "metadata": {
        "id": "view-in-github",
        "colab_type": "text"
      },
      "source": [
        "<a href=\"https://colab.research.google.com/github/SweekrutiSingh19/OOP-Lab/blob/main/Sweekruti_20BCS124_OOPTask3.ipynb\" target=\"_parent\"><img src=\"https://colab.research.google.com/assets/colab-badge.svg\" alt=\"Open In Colab\"/></a>"
      ]
    },
    {
      "cell_type": "markdown",
      "metadata": {
        "id": "qzFSat8S62C6"
      },
      "source": [
        "Problem 1"
      ]
    },
    {
      "cell_type": "code",
      "metadata": {
        "colab": {
          "base_uri": "https://localhost:8080/"
        },
        "id": "cUR9Xq75__Br",
        "outputId": "dce9936c-87ac-4a72-ac1e-28e19035ff2c"
      },
      "source": [
        "class student:\n",
        "  name=''\n",
        "  regno=''\n",
        "  age=''\n",
        "  gender=''\n",
        "  branch=''\n",
        "  sem=''\n",
        "  \n",
        "  def read(self):\n",
        "    student.name=input(\"Enter student's name: \")\n",
        "    student.regno=int(input(\"Enter student's reg no: \"))\n",
        "    student.age=int(input(\"Enter student's age: \"))\n",
        "    student.gender=input(\"Enter student's gender: \")\n",
        "    student.branch=input(\"Enter student's branch: \")\n",
        "    student.sem=int(input(\"Enter student's sem: \"))\n",
        "\n",
        "  def display(self):\n",
        "    print(\"Name: \",student.name)\n",
        "    print(\"Reg no: \",student.regno)\n",
        "    print(\"Age: \",student.age)\n",
        "    print(\"Gender: \",student.gender)\n",
        "    print(\"Branch: \",student.branch)\n",
        "    print(\"Sem: \",student.sem)\n",
        "\n",
        "class StudentResultInfo (Student):\n",
        "    marks1=95\n",
        "    marks2=83\n",
        "    marks3=96\n",
        "    total=marks1+marks2+marks3\n",
        "    percentage=float((total)/3)\n",
        "    def printResult(self):\n",
        "      print(\"Total marks: \",StudentResultInfo.total)\n",
        "      print(\"percentage: \",StudentResultInfo.percentage)\n",
        "      print(\"The grade is A+\")\n",
        "\n",
        "s1=student()\n",
        "s1.read()\n",
        "s1.display()\n",
        "s2=StudentResultInfo()\n",
        "s2.printResult()"
      ],
      "execution_count": null,
      "outputs": [
        {
          "output_type": "stream",
          "name": "stdout",
          "text": [
            "Enter student's name: Sweekruti\n",
            "Enter student's reg no: 124\n",
            "Enter student's age: 19\n",
            "Enter student's gender: Female\n",
            "Enter student's branch: CSE\n",
            "Enter student's sem: 3\n",
            "Name:  Sweekruti\n",
            "Reg no:  124\n",
            "Age:  19\n",
            "Gender:  Female\n",
            "Branch:  CSE\n",
            "Sem:  3\n",
            "Total marks:  274\n",
            "percentage:  91.33333333333333\n",
            "The grade is A+\n"
          ]
        }
      ]
    },
    {
      "cell_type": "markdown",
      "metadata": {
        "id": "TJUOt35-__Lo"
      },
      "source": [
        "Problem 2"
      ]
    },
    {
      "cell_type": "code",
      "metadata": {
        "colab": {
          "base_uri": "https://localhost:8080/"
        },
        "id": "kzgBXJxuACG_",
        "outputId": "50b54ce5-85ac-441c-c7b9-a89ce43e15db"
      },
      "source": [
        "class pdf:\n",
        "  creator='Sweekruti'\n",
        "  description='oop-task 03'\n",
        "  size=14             # The size is in KBs\n",
        "\n",
        "  def checksize(self):\n",
        "    if pdf.size>25000:\n",
        "       print('File size is beyond the threshold')\n",
        "    else:\n",
        "      print('File size is within the threshold')\n",
        "    \n",
        "  def detail(self):\n",
        "    print(\"Creator: \",pdf.creator)\n",
        "    print(\"Description: \",pdf.description)\n",
        "    print(\"File size: \",pdf.size)\n",
        "  \n",
        "class picture:\n",
        "  creator='Sweekruti'\n",
        "  description='oop-task 03'\n",
        "  dimensions=1024   # The dimension is in pixels\n",
        "\n",
        "  def checkdim(self):\n",
        "    if picture.dimensions>2048:\n",
        "      print(\"Picture's dimension is too high\")\n",
        "    else:\n",
        "      print(\"Picture's dimension is fine\")\n",
        "\n",
        "  def detail(self):\n",
        "    print(\"Creator: \",picture.creator)\n",
        "    print(\"Description: \",picture.description)\n",
        "    print(\"File size: \",picture.dimensions)\n",
        "f=pdf()\n",
        "f.detail()\n",
        "print(f.checksize())\n",
        "p=picture()\n",
        "p.detail()\n",
        "print(p.checkdim())"
      ],
      "execution_count": null,
      "outputs": [
        {
          "output_type": "stream",
          "name": "stdout",
          "text": [
            "Creator:  Sweekruti\n",
            "Description:  oop-task 03\n",
            "File size:  14\n",
            "File size is within the threshold\n",
            "None\n",
            "Creator:  Sweekruti\n",
            "Description:  oop-task 03\n",
            "File size:  1024\n",
            "Picture's dimension is fine\n",
            "None\n"
          ]
        }
      ]
    },
    {
      "cell_type": "markdown",
      "metadata": {
        "id": "qsUOtgcqACT9"
      },
      "source": [
        "Problem 3"
      ]
    },
    {
      "cell_type": "code",
      "metadata": {
        "colab": {
          "base_uri": "https://localhost:8080/"
        },
        "id": "JFX4DYR-ADze",
        "outputId": "9b640256-bd63-4d01-80d6-e7098b98bf46"
      },
      "source": [
        "class vehicle:\n",
        "  name='car'\n",
        "  mileage=9    # Mileage is calculated in KMPL\n",
        "  capacity=5\n",
        "\n",
        "class bus(vehicle):\n",
        "  capacity=50\n",
        "  def busfare(self):\n",
        "    return (1.1*(bus.capacity*100))\n",
        "\n",
        "v=vehicle()\n",
        "b=bus()\n",
        "print(b.busfare())"
      ],
      "execution_count": null,
      "outputs": [
        {
          "output_type": "stream",
          "name": "stdout",
          "text": [
            "5500.0\n"
          ]
        }
      ]
    }
  ]
}