{
  "nbformat": 4,
  "nbformat_minor": 0,
  "metadata": {
    "colab": {
      "name": "Sweekruti_20BCS124_OOPTask1.ipynb",
      "provenance": [],
      "collapsed_sections": [],
      "authorship_tag": "ABX9TyMaBpM8ViMBAPMljdqjJlmb",
      "include_colab_link": true
    },
    "kernelspec": {
      "name": "python3",
      "display_name": "Python 3"
    },
    "language_info": {
      "name": "python"
    }
  },
  "cells": [
    {
      "cell_type": "markdown",
      "metadata": {
        "id": "view-in-github",
        "colab_type": "text"
      },
      "source": [
        "<a href=\"https://colab.research.google.com/github/SweekrutiSingh19/OOP-Lab/blob/main/Sweekruti_20BCS124_OOPTask1.ipynb\" target=\"_parent\"><img src=\"https://colab.research.google.com/assets/colab-badge.svg\" alt=\"Open In Colab\"/></a>"
      ]
    },
    {
      "cell_type": "markdown",
      "metadata": {
        "id": "Y2aANUvfOKpL"
      },
      "source": [
        "Problem-I"
      ]
    },
    {
      "cell_type": "code",
      "metadata": {
        "id": "qsQ-HSOUSTYd",
        "colab": {
          "base_uri": "https://localhost:8080/"
        },
        "outputId": "74fe2881-bc24-41d3-c323-8263cf16daef"
      },
      "source": [
        "def is_leap(year):\n",
        "    if year%4==0 and year%100!=0:\n",
        "        return True\n",
        "    if year%400==0:\n",
        "        return True\n",
        "    return False\n",
        "\n",
        "year = int(input())\n",
        "print(is_leap(year))    "
      ],
      "execution_count": null,
      "outputs": [
        {
          "output_type": "stream",
          "name": "stdout",
          "text": [
            "2021\n",
            "False\n"
          ]
        }
      ]
    },
    {
      "cell_type": "markdown",
      "metadata": {
        "id": "PL4f5OTXUqWM"
      },
      "source": [
        "Problem-II"
      ]
    },
    {
      "cell_type": "code",
      "metadata": {
        "id": "pMlPYIQDUsSU",
        "colab": {
          "base_uri": "https://localhost:8080/"
        },
        "outputId": "2000b1a5-552e-4da9-d0fc-a6ee0e33a309"
      },
      "source": [
        "n = int(input(\"\"))\n",
        "\n",
        "if n%2==1:\n",
        "    print(\"Weird\")\n",
        "elif n%2==0 and n in range(3, 6):\n",
        "    print(\"Not Weird\")\n",
        "elif n%2==0 and n in range(6, 21):\n",
        "    print(\"Weird\")\n",
        "elif n%2==0 and n>20:\n",
        "    print(\"Not Weird\")"
      ],
      "execution_count": null,
      "outputs": [
        {
          "output_type": "stream",
          "name": "stdout",
          "text": [
            "9\n",
            "Weird\n"
          ]
        }
      ]
    },
    {
      "cell_type": "markdown",
      "metadata": {
        "id": "Q0tM6dB1WbRb"
      },
      "source": [
        "Problem-III"
      ]
    },
    {
      "cell_type": "code",
      "metadata": {
        "id": "xoHfLteembu3"
      },
      "source": [
        "def fashionably_late(arrivals, name):\n",
        "    \"\"\"Arrivals = ['Hardik', 'Rahul', 'Virat', 'Rishabh’, ‘Mahi’ 'Rohit', 'Rahane']\n",
        "    \"\"\"\n",
        "    name_index=arrivals.index(name)\n",
        "    final_index_of_list=arrivals.index((len(arrivals)-1))\n",
        "    print(final_index_of_list)\n",
        "    if final_index_of_list%2==0:\n",
        "        return False if name_index<=(final_index_of_list/2) or name_index==final_index_of_list else True\n",
        "    elif final_index_of_list%2>0:\n",
        "        return False if name_index<=(final_index_of_list/2+1) or name_index==final_index_of_list else True\n",
        "        \n",
        "\n",
        "print(fashionably_late(['Hardik', 'Rahul', 'Virat', 'Rishabh', 'Mahi', 'Rohit', 'Rahane'], \"Mahi\"))"
      ],
      "execution_count": null,
      "outputs": []
    },
    {
      "cell_type": "markdown",
      "metadata": {
        "id": "FkleKgPQdxXL"
      },
      "source": [
        "Problem-IV"
      ]
    },
    {
      "cell_type": "code",
      "metadata": {
        "id": "KcP4eWdEdzla",
        "colab": {
          "base_uri": "https://localhost:8080/"
        },
        "outputId": "87881286-cc91-4a28-b70c-47391e2e8707"
      },
      "source": [
        "def word_search_2(title_list, keyword):\n",
        "    keyword = keyword.lower().strip('.,')\n",
        "\n",
        "    result_list = []\n",
        "    for i, title in enumerate(title_list):\n",
        "        words = title.lower().strip('.,').split()\n",
        "\n",
        "        if keyword in words:\n",
        "            result_list.append((i, title))\n",
        "\n",
        "    return result_list\n",
        "\n",
        "if __name__ == '__main__':\n",
        "    docs = [\n",
        "        \"The Learn Python Challenge Rohit.\",\n",
        "        \"They bought a car\",\n",
        "        \"bangalore\",\n",
        "    ]\n",
        "    w = 'car'\n",
        "\n",
        "    print(word_search_2(docs, w))"
      ],
      "execution_count": null,
      "outputs": [
        {
          "output_type": "stream",
          "name": "stdout",
          "text": [
            "[(1, 'They bought a car')]\n"
          ]
        }
      ]
    },
    {
      "cell_type": "markdown",
      "metadata": {
        "id": "TOp3_zDmfRpZ"
      },
      "source": [
        "Problem-V"
      ]
    },
    {
      "cell_type": "code",
      "metadata": {
        "id": "G4TT_GFMmlya",
        "colab": {
          "base_uri": "https://localhost:8080/"
        },
        "outputId": "bd2fee48-c748-4688-c596-4bd6bead7bbe"
      },
      "source": [
        "def computeSalary( basic):\n",
        "\t\n",
        "\thra = 0.2 * basic\n",
        "\tda = 0.4 * basic\n",
        "\n",
        "\tgross = round(basic + da + hra)\n",
        "\t\t\t\t\t\n",
        "\treturn gross\n",
        "\n",
        "if __name__ == '__main__':\n",
        "\t\n",
        "\tbasic = 10000\n",
        "\n",
        "\tprint(computeSalary(basic));"
      ],
      "execution_count": null,
      "outputs": [
        {
          "output_type": "stream",
          "name": "stdout",
          "text": [
            "16000\n"
          ]
        }
      ]
    }
  ]
}